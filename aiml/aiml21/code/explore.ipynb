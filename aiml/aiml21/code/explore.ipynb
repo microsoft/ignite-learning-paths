{
 "cells": [
  {
   "cell_type": "markdown",
   "metadata": {},
   "source": [
    "# Explore Dataset "
   ]
  },
  {
   "cell_type": "markdown",
   "metadata": {},
   "source": [
    "We will explore the **data_train.csv dataset** from the Tailwind Traders support team department. \n",
    "\n",
    "This is historical data about the features of each support ticket submitted. This data could unlock insights to help the support team become more efficient and provide even better service to Tailwind Traders customers and partners"
   ]
  },
  {
   "cell_type": "markdown",
   "metadata": {},
   "source": [
    "We are using:\n",
    "* The Notebook VM's in Azure Machine Learning Service:[Three things to know about Azure Machine Learning Notebook VM](https://azure.microsoft.com/en-us/blog/three-things-to-know-about-azure-machine-learning-notebook-vm/)\n",
    "* Jupyter, the REPL code interface: [Jupyter.org](https://jupyter.org/)"
   ]
  },
  {
   "cell_type": "markdown",
   "metadata": {},
   "source": [
    "## Read in the Dataset "
   ]
  },
  {
   "cell_type": "markdown",
   "metadata": {},
   "source": [
    "[Read in the dataset (CSV file)](https://pandas.pydata.org/pandas-docs/stable/reference/api/pandas.read_csv.html) in order to start exploration. Using [Pandas DataFrames](https://pandas.pydata.org/pandas-docs/stable/reference/api/pandas.DataFrame.html) as the data structure to hold the dataset and access the ability to manipulate the datasets"
   ]
  },
  {
   "cell_type": "code",
   "execution_count": null,
   "metadata": {},
   "outputs": [],
   "source": [
    "# Read CSV file\n",
    "import pandas as pd\n",
    "data = pd.read_csv('data/data_train.csv')\n",
    "data.head()"
   ]
  },
  {
   "cell_type": "markdown",
   "metadata": {},
   "source": [
    "## Describe the Dataset and its Distributions "
   ]
  },
  {
   "cell_type": "markdown",
   "metadata": {},
   "source": [
    "Review the distributions of the dataset. The shape we are working with in Pandas DataFrames"
   ]
  },
  {
   "cell_type": "code",
   "execution_count": null,
   "metadata": {},
   "outputs": [],
   "source": [
    "data.describe()\n",
    "data.shape"
   ]
  },
  {
   "cell_type": "markdown",
   "metadata": {},
   "source": [
    "## Feature Engineering "
   ]
  },
  {
   "cell_type": "markdown",
   "metadata": {},
   "source": [
    "Now we have explored the dataset we can start to manipulate it to better explore it and also get it ready for any machine learning/prediction workloads we may wish to create\n",
    "\n",
    "[\"Feature engineering is the process of using domain knowledge of the data to create features that make machine learning algorithms work\"](https://en.wikipedia.org/wiki/Feature_engineering)\n",
    "\n",
    "In our dataset - you may have noticed that columns such as **'CompletedTutorial'** or **'Rating'** have string values associated with them, we are going to change them into numeric binary columns instead. Traditional machine learning approaches work well on numeric data.\n",
    "\n",
    "Finally in our business use case - date/time context could be incredibly important. Are there certain days of the week, weeks of the month or months of the year that affect duration, themes or escalations for example. We split the **DateCreated** column into 3 and same for the **DateCompleted** column"
   ]
  },
  {
   "cell_type": "code",
   "execution_count": null,
   "metadata": {},
   "outputs": [],
   "source": [
    "#transform to numeric data - Completed Tutorial\n",
    "new_completedtutorial = data.loc[data.CompletedTutorial == 'yes', 'CompletedTutorialBinary'] = '1' \n",
    "new_completedtutorial = data.loc[data.CompletedTutorial == 'no', 'CompletedTutorialBinary'] = '0' \n",
    "\n",
    "#transform to numeric data - Rating\n",
    "new_rating = data.loc[data.Rating == 'High', 'RatingNumeric'] = '1' \n",
    "new_rating = data.loc[data.Rating == 'Low', 'RatingNumeric'] = '0' \n",
    "\n",
    "# Split out date columns\n",
    "data[['DateCreatedDay', 'DateCreatedMonth', 'DateCreatedYear']] = data.DateCreated.str.split(\"/\", expand = True)\n",
    "data[['DateCompletedDay', 'DateCompletedMonth', 'DateCompletedYear']] = data.DateCompleted.str.split(\"/\", expand = True)\n",
    "\n",
    "print(data.shape)\n",
    "data.head()"
   ]
  },
  {
   "cell_type": "markdown",
   "metadata": {},
   "source": [
    "## Data Vizualisation "
   ]
  },
  {
   "cell_type": "markdown",
   "metadata": {},
   "source": [
    "Now we have our dataset expanded we should start exploring the data through vizualisation\n",
    "\n",
    "Firstly creating a bar chart using [MatPlotLib package](https://matplotlib.org/) to show **number of support tickets** submitted **by month of the year** to see if there is seasonality."
   ]
  },
  {
   "cell_type": "code",
   "execution_count": null,
   "metadata": {},
   "outputs": [],
   "source": [
    "import matplotlib.pyplot as plt\n",
    "import numpy as np\n",
    "\n",
    "countscreated = data['DateCreatedMonth'].value_counts().sort_index(ascending = True)\n",
    "countscompleted = data['DateCompletedMonth'].value_counts().sort_index(ascending = True)\n",
    "\n",
    "x = data.DateCreatedMonth.unique()\n",
    "x = np.sort(x)\n",
    "print(x)"
   ]
  },
  {
   "cell_type": "code",
   "execution_count": null,
   "metadata": {},
   "outputs": [],
   "source": [
    "plt.figure(figsize=(15,10))\n",
    "plt.bar(x, countscreated, align='center', alpha=0.5)\n",
    "plt.xticks(x)\n",
    "plt.xlabel('Month Created')\n",
    "plt.ylabel('Count of Month Created')\n",
    "plt.show()"
   ]
  },
  {
   "cell_type": "markdown",
   "metadata": {},
   "source": [
    "Creating a [histogram](https://pythonspot.com/matplotlib-histogram/) of the support tickets by **length of Duration** to see the distribution of support tickets - how many short, medium and long."
   ]
  },
  {
   "cell_type": "code",
   "execution_count": null,
   "metadata": {},
   "outputs": [],
   "source": [
    "duration = data['Duration']\n",
    "num_bins = 7\n",
    "n, bins, patches = plt.hist(duration, num_bins, facecolor='royalblue', alpha=0.5)\n",
    "plt.show()"
   ]
  },
  {
   "cell_type": "markdown",
   "metadata": {},
   "source": [
    "Creating a [pie chart](https://matplotlib.org/3.1.1/api/_as_gen/matplotlib.pyplot.pie.html) to show the percentage of all support tickets which get **escalated**"
   ]
  },
  {
   "cell_type": "code",
   "execution_count": null,
   "metadata": {},
   "outputs": [],
   "source": [
    "# Data to plot\n",
    "labels = 'escalated', 'not-escalated'\n",
    "\n",
    "escalated_count_0 = len(data[data['Escalated'] == 0])\n",
    "escalated_count_1 = len(data[data['Escalated'] == 1])\n",
    "escalated_cases = data[data['Escalated'] == 1]\n",
    "\n",
    "sizes = [escalated_count_1, escalated_count_0]\n",
    "colors = ['red', 'lightgreen']\n",
    "plt.pie(sizes, labels=labels, colors=colors, autopct='%1.1f%%', startangle=140)\n",
    "plt.axis('equal')\n",
    "plt.show()"
   ]
  },
  {
   "cell_type": "markdown",
   "metadata": {},
   "source": [
    "Creating a [Bar Chart](https://pythonspot.com/matplotlib-bar-chart/) to investigate the support tickets **submitted by Theme** and see if there are any specific areas with problems"
   ]
  },
  {
   "cell_type": "code",
   "execution_count": null,
   "metadata": {},
   "outputs": [],
   "source": [
    "import numpy as np\n",
    "objects = data.Theme.unique()\n",
    "y_pos = np.arange(len(objects))\n",
    "\n",
    "plt.figure(figsize=(15,10))\n",
    "plt.bar(y_pos, data['Theme'].value_counts(), align='center', alpha=0.5)\n",
    "plt.xticks(y_pos, objects)\n",
    "plt.ylabel('No. Tickets with this theme')\n",
    "plt.show()"
   ]
  },
  {
   "cell_type": "markdown",
   "metadata": {},
   "source": [
    "## Write new Dataset to use later "
   ]
  },
  {
   "cell_type": "code",
   "execution_count": null,
   "metadata": {},
   "outputs": [],
   "source": [
    "outputfile = data.to_csv('data_train_experiment.csv', index=False)"
   ]
  }
 ],
 "metadata": {
  "kernelspec": {
   "display_name": "Python 3.6 - AzureML",
   "language": "python",
   "name": "python3-azureml"
  },
  "language_info": {
   "codemirror_mode": {
    "name": "ipython",
    "version": 3
   },
   "file_extension": ".py",
   "mimetype": "text/x-python",
   "name": "python",
   "nbconvert_exporter": "python",
   "pygments_lexer": "ipython3",
   "version": "3.6.2"
  },
  "nteract": {
   "version": "nteract-front-end@1.0.0"
  }
 },
 "nbformat": 4,
 "nbformat_minor": 2
}
