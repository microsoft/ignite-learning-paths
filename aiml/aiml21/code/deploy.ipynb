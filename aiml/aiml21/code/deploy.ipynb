{
 "cells": [
  {
   "cell_type": "markdown",
   "metadata": {},
   "source": [
    "# Deploy Model"
   ]
  },
  {
   "cell_type": "markdown",
   "metadata": {},
   "source": [
    "In this section we will submit data to the [Azure Machine Learning Model Endpoint](https://docs.microsoft.com/en-us/azure/machine-learning/service/how-to-deploy-and-where) we have created in the Azure Portal - using Python to call a REST API\n",
    "\n",
    "We will be following a simlilar process to the documentation here:[How to Consume a Web Service](https://docs.microsoft.com/en-us/azure/machine-learning/service/how-to-consume-web-service)"
   ]
  },
  {
   "cell_type": "markdown",
   "metadata": {},
   "source": [
    "## Connect to Azure ML Service "
   ]
  },
  {
   "cell_type": "markdown",
   "metadata": {},
   "source": [
    "We [connect to the Azure Machine Learning Service](https://docs.microsoft.com/en-us/azure/machine-learning/service/tutorial-1st-experiment-sdk-setup) in order to get details about calling the web service we have created\n",
    "\n",
    "Be sure to fill in 'config.json' file provided with the code. This must contain your Azure Machine Learning workspace information for the code below to work"
   ]
  },
  {
   "cell_type": "code",
   "execution_count": null,
   "metadata": {},
   "outputs": [],
   "source": [
    "from azureml.core import Workspace\n",
    "ws = Workspace.from_config()\n",
    "print(ws)"
   ]
  },
  {
   "cell_type": "markdown",
   "metadata": {},
   "source": [
    "## Find Web Service by Name and get Connection Details "
   ]
  },
  {
   "cell_type": "markdown",
   "metadata": {},
   "source": [
    "We select the web service by the name and this will provide us information on the URLs such as scoring and [swagger](https://swagger.io/) calls"
   ]
  },
  {
   "cell_type": "code",
   "execution_count": null,
   "metadata": {},
   "outputs": [],
   "source": [
    "from azureml.core import Webservice\n",
    "service = Webservice(workspace=ws, name='<insert web service name here>')\n",
    "print(\"Score URI: \" + str(service.scoring_uri))\n",
    "print(\"Swagger URI: \" + str(service.swagger_uri))"
   ]
  },
  {
   "cell_type": "markdown",
   "metadata": {},
   "source": [
    "## Data Input to REST API Schema "
   ]
  },
  {
   "cell_type": "markdown",
   "metadata": {},
   "source": [
    "Now we need to understand the schema of the data to be input into the REST call.\n",
    "\n",
    "You can get this sample input information from the auto-generated scoring script that was created in the Azure Portal"
   ]
  },
  {
   "cell_type": "code",
   "execution_count": null,
   "metadata": {},
   "outputs": [],
   "source": [
    "import pandas as pd\n",
    "input_sample = pd.DataFrame(data=[{'Escalated': 0, 'GeographyID': 3, 'OriginalScore': 10, 'Tenure': 11.0, 'Theme': 'support', 'RoleID': 3, 'Continent': 'Europe', 'CountryRegion': 'Germany', 'RoleInOrg': 'administrator', 'CompletedTutorialBinary': 0, 'RatingNumeric': 1, 'DateCreatedDay': 9, 'DateCreatedMonth': 7, 'DateCreatedYear': 2018}])"
   ]
  },
  {
   "cell_type": "code",
   "execution_count": null,
   "metadata": {},
   "outputs": [],
   "source": [
    "array = input_sample.iloc[0,:]\n",
    "print(\"Input data content:\")\n",
    "print(array)"
   ]
  },
  {
   "cell_type": "markdown",
   "metadata": {},
   "source": [
    "## Call Web Service with Data "
   ]
  },
  {
   "cell_type": "markdown",
   "metadata": {},
   "source": [
    "Finally we use packages in Python to call a REST Request using the scoring URL and the data to evaluate\n",
    "\n",
    "This can be run in any language, check out the [documentation here](https://docs.microsoft.com/en-us/azure/machine-learning/service/how-to-consume-web-service) for more language samples. We have chosen Python. This could also be called from a tool such as [Postman](https://www.getpostman.com/), you can find a video demo here showing that process and tool"
   ]
  },
  {
   "cell_type": "code",
   "execution_count": null,
   "metadata": {},
   "outputs": [],
   "source": [
    "import requests\n",
    "import json\n",
    "\n",
    "# URL for the web service\n",
    "scoring_uri = service.scoring_uri\n",
    "# If the service is authenticated, set the key or token\n",
    "#key = '<your key or token>'\n",
    "\n",
    "# Two sets of data to score, so we get two results back\n",
    "data = {\"data\":\n",
    "        [\n",
    "            [\n",
    "                0,\n",
    "                'Europe',\n",
    "                'Germany',\n",
    "                9,\n",
    "                7,\n",
    "                2018,\n",
    "                0,\n",
    "                3,\n",
    "                10,\n",
    "                1,\n",
    "                3,\n",
    "                'administrator',\n",
    "                11,\n",
    "                'support'\n",
    "            ]\n",
    "        ]\n",
    "        }\n",
    "# Convert to JSON string\n",
    "input_data = json.dumps(data)\n",
    "print(\"input data: \" + str(input_data))\n",
    "\n",
    "# Set the content type\n",
    "headers = {'Content-Type': 'application/json'}\n",
    "# If authentication is enabled, set the authorization header\n",
    "#headers['Authorization'] = f'Bearer {key}'\n",
    "\n",
    "# Make the request and display the response\n",
    "resp = requests.post(scoring_uri, input_data, headers=headers)\n",
    "print(\"Predicted Duration: \" + str(resp.text))"
   ]
  }
 ],
 "metadata": {
  "kernelspec": {
   "display_name": "Python 3.6 - AzureML",
   "language": "python",
   "name": "python3-azureml"
  },
  "language_info": {
   "codemirror_mode": {
    "name": "ipython",
    "version": 3
   },
   "file_extension": ".py",
   "mimetype": "text/x-python",
   "name": "python",
   "nbconvert_exporter": "python",
   "pygments_lexer": "ipython3",
   "version": "3.6.2"
  }
 },
 "nbformat": 4,
 "nbformat_minor": 2
}
